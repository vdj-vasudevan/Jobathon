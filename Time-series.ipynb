{
 "cells": [
  {
   "cell_type": "code",
   "execution_count": 1,
   "id": "dbf9d35e",
   "metadata": {},
   "outputs": [],
   "source": [
    "import pandas as pd\n",
    "import numpy as np\n",
    "import matplotlib.pyplot as plt\n",
    "import seaborn as sns\n",
    "import plotly\n",
    "import warnings \n",
    "warnings.filterwarnings('ignore')\n",
    "\n",
    "from tsfresh import extract_features, extract_relevant_features, select_features\n",
    "from tsfresh.utilities.dataframe_functions import impute, make_forecasting_frame\n",
    "from tsfresh.feature_extraction import ComprehensiveFCParameters, settings"
   ]
  },
  {
   "cell_type": "code",
   "execution_count": 2,
   "id": "4e956359",
   "metadata": {},
   "outputs": [
    {
     "data": {
      "text/html": [
       "<div>\n",
       "<style scoped>\n",
       "    .dataframe tbody tr th:only-of-type {\n",
       "        vertical-align: middle;\n",
       "    }\n",
       "\n",
       "    .dataframe tbody tr th {\n",
       "        vertical-align: top;\n",
       "    }\n",
       "\n",
       "    .dataframe thead th {\n",
       "        text-align: right;\n",
       "    }\n",
       "</style>\n",
       "<table border=\"1\" class=\"dataframe\">\n",
       "  <thead>\n",
       "    <tr style=\"text-align: right;\">\n",
       "      <th></th>\n",
       "      <th>Unnamed: 0</th>\n",
       "      <th>Date</th>\n",
       "      <th>Symbol</th>\n",
       "      <th>Series</th>\n",
       "      <th>Prev Close</th>\n",
       "      <th>Open</th>\n",
       "      <th>High</th>\n",
       "      <th>Low</th>\n",
       "      <th>Last</th>\n",
       "      <th>Close</th>\n",
       "      <th>VWAP</th>\n",
       "      <th>Volume</th>\n",
       "      <th>Turnover</th>\n",
       "      <th>Trades</th>\n",
       "      <th>Deliverable Volume</th>\n",
       "      <th>%Deliverble</th>\n",
       "      <th>Priority</th>\n",
       "    </tr>\n",
       "  </thead>\n",
       "  <tbody>\n",
       "    <tr>\n",
       "      <th>0</th>\n",
       "      <td>0</td>\n",
       "      <td>2010-09-01</td>\n",
       "      <td>DIVISLAB</td>\n",
       "      <td>EQ</td>\n",
       "      <td>743.95</td>\n",
       "      <td>745.00</td>\n",
       "      <td>752.00</td>\n",
       "      <td>743.30</td>\n",
       "      <td>744.65</td>\n",
       "      <td>745.00</td>\n",
       "      <td>747.50</td>\n",
       "      <td>111512.0</td>\n",
       "      <td>8.335532e+12</td>\n",
       "      <td>NaN</td>\n",
       "      <td>60290.0</td>\n",
       "      <td>0.5407</td>\n",
       "      <td>0</td>\n",
       "    </tr>\n",
       "    <tr>\n",
       "      <th>1</th>\n",
       "      <td>1</td>\n",
       "      <td>2010-09-02</td>\n",
       "      <td>DIVISLAB</td>\n",
       "      <td>EQ</td>\n",
       "      <td>745.00</td>\n",
       "      <td>750.00</td>\n",
       "      <td>754.50</td>\n",
       "      <td>742.10</td>\n",
       "      <td>746.00</td>\n",
       "      <td>745.05</td>\n",
       "      <td>745.72</td>\n",
       "      <td>54153.0</td>\n",
       "      <td>4.038317e+12</td>\n",
       "      <td>NaN</td>\n",
       "      <td>19161.0</td>\n",
       "      <td>0.3538</td>\n",
       "      <td>0</td>\n",
       "    </tr>\n",
       "    <tr>\n",
       "      <th>2</th>\n",
       "      <td>2</td>\n",
       "      <td>2010-09-03</td>\n",
       "      <td>DIVISLAB</td>\n",
       "      <td>EQ</td>\n",
       "      <td>745.05</td>\n",
       "      <td>751.00</td>\n",
       "      <td>762.70</td>\n",
       "      <td>742.00</td>\n",
       "      <td>758.10</td>\n",
       "      <td>756.70</td>\n",
       "      <td>757.44</td>\n",
       "      <td>169524.0</td>\n",
       "      <td>1.284039e+13</td>\n",
       "      <td>NaN</td>\n",
       "      <td>54191.0</td>\n",
       "      <td>0.3197</td>\n",
       "      <td>0</td>\n",
       "    </tr>\n",
       "    <tr>\n",
       "      <th>3</th>\n",
       "      <td>3</td>\n",
       "      <td>2010-09-06</td>\n",
       "      <td>DIVISLAB</td>\n",
       "      <td>EQ</td>\n",
       "      <td>756.70</td>\n",
       "      <td>763.75</td>\n",
       "      <td>765.85</td>\n",
       "      <td>758.00</td>\n",
       "      <td>762.55</td>\n",
       "      <td>761.65</td>\n",
       "      <td>761.27</td>\n",
       "      <td>160140.0</td>\n",
       "      <td>1.219104e+13</td>\n",
       "      <td>NaN</td>\n",
       "      <td>96032.0</td>\n",
       "      <td>0.5997</td>\n",
       "      <td>0</td>\n",
       "    </tr>\n",
       "    <tr>\n",
       "      <th>4</th>\n",
       "      <td>4</td>\n",
       "      <td>2010-09-07</td>\n",
       "      <td>DIVISLAB</td>\n",
       "      <td>EQ</td>\n",
       "      <td>761.65</td>\n",
       "      <td>765.00</td>\n",
       "      <td>769.90</td>\n",
       "      <td>757.35</td>\n",
       "      <td>758.00</td>\n",
       "      <td>762.20</td>\n",
       "      <td>762.23</td>\n",
       "      <td>93445.0</td>\n",
       "      <td>7.122623e+12</td>\n",
       "      <td>NaN</td>\n",
       "      <td>58227.0</td>\n",
       "      <td>0.6231</td>\n",
       "      <td>0</td>\n",
       "    </tr>\n",
       "  </tbody>\n",
       "</table>\n",
       "</div>"
      ],
      "text/plain": [
       "   Unnamed: 0        Date    Symbol Series  Prev Close    Open    High  \\\n",
       "0           0  2010-09-01  DIVISLAB     EQ      743.95  745.00  752.00   \n",
       "1           1  2010-09-02  DIVISLAB     EQ      745.00  750.00  754.50   \n",
       "2           2  2010-09-03  DIVISLAB     EQ      745.05  751.00  762.70   \n",
       "3           3  2010-09-06  DIVISLAB     EQ      756.70  763.75  765.85   \n",
       "4           4  2010-09-07  DIVISLAB     EQ      761.65  765.00  769.90   \n",
       "\n",
       "      Low    Last   Close    VWAP    Volume      Turnover  Trades  \\\n",
       "0  743.30  744.65  745.00  747.50  111512.0  8.335532e+12     NaN   \n",
       "1  742.10  746.00  745.05  745.72   54153.0  4.038317e+12     NaN   \n",
       "2  742.00  758.10  756.70  757.44  169524.0  1.284039e+13     NaN   \n",
       "3  758.00  762.55  761.65  761.27  160140.0  1.219104e+13     NaN   \n",
       "4  757.35  758.00  762.20  762.23   93445.0  7.122623e+12     NaN   \n",
       "\n",
       "   Deliverable Volume  %Deliverble  Priority  \n",
       "0             60290.0       0.5407         0  \n",
       "1             19161.0       0.3538         0  \n",
       "2             54191.0       0.3197         0  \n",
       "3             96032.0       0.5997         0  \n",
       "4             58227.0       0.6231         0  "
      ]
     },
     "execution_count": 2,
     "metadata": {},
     "output_type": "execute_result"
    }
   ],
   "source": [
    "df=pd.read_csv('Companies_historic_data_01-sep-2010to26-sep-2022.csv')\n",
    "df.head()"
   ]
  },
  {
   "cell_type": "code",
   "execution_count": 3,
   "id": "355df3ed",
   "metadata": {},
   "outputs": [],
   "source": [
    "# Date filter\n",
    "ts_data=df[df.Symbol=='DIVISLAB'][['Date','Symbol','Open','High','Low','Last','Close','Prev Close']]"
   ]
  },
  {
   "cell_type": "code",
   "execution_count": 4,
   "id": "cace8e58",
   "metadata": {},
   "outputs": [
    {
     "name": "stdout",
     "output_type": "stream",
     "text": [
      "<class 'pandas.core.frame.DataFrame'>\n",
      "Int64Index: 2996 entries, 0 to 2995\n",
      "Data columns (total 8 columns):\n",
      " #   Column      Non-Null Count  Dtype  \n",
      "---  ------      --------------  -----  \n",
      " 0   Date        2996 non-null   object \n",
      " 1   Symbol      2996 non-null   object \n",
      " 2   Open        2996 non-null   float64\n",
      " 3   High        2996 non-null   float64\n",
      " 4   Low         2996 non-null   float64\n",
      " 5   Last        2996 non-null   float64\n",
      " 6   Close       2996 non-null   float64\n",
      " 7   Prev Close  2996 non-null   float64\n",
      "dtypes: float64(6), object(2)\n",
      "memory usage: 210.7+ KB\n"
     ]
    }
   ],
   "source": [
    "ts_data.info()"
   ]
  },
  {
   "cell_type": "code",
   "execution_count": 5,
   "id": "ce4f9484",
   "metadata": {},
   "outputs": [],
   "source": [
    "ts_data.Date=pd.to_datetime(ts_data.Date)"
   ]
  },
  {
   "cell_type": "code",
   "execution_count": 6,
   "id": "37e9c90c",
   "metadata": {},
   "outputs": [],
   "source": [
    "ts_data.set_index('Date',drop=True,inplace=True)"
   ]
  },
  {
   "cell_type": "code",
   "execution_count": 7,
   "id": "0d36687b",
   "metadata": {},
   "outputs": [],
   "source": [
    "rsi_period=7\n",
    "ts_data['open_ma']=round(ts_data['Open'].rolling(rsi_period,min_periods=1).mean(),2)"
   ]
  },
  {
   "cell_type": "code",
   "execution_count": 8,
   "id": "19389559",
   "metadata": {},
   "outputs": [
    {
     "data": {
      "text/html": [
       "<div>\n",
       "<style scoped>\n",
       "    .dataframe tbody tr th:only-of-type {\n",
       "        vertical-align: middle;\n",
       "    }\n",
       "\n",
       "    .dataframe tbody tr th {\n",
       "        vertical-align: top;\n",
       "    }\n",
       "\n",
       "    .dataframe thead th {\n",
       "        text-align: right;\n",
       "    }\n",
       "</style>\n",
       "<table border=\"1\" class=\"dataframe\">\n",
       "  <thead>\n",
       "    <tr style=\"text-align: right;\">\n",
       "      <th></th>\n",
       "      <th>Symbol</th>\n",
       "      <th>Open</th>\n",
       "      <th>High</th>\n",
       "      <th>Low</th>\n",
       "      <th>Last</th>\n",
       "      <th>Close</th>\n",
       "      <th>Prev Close</th>\n",
       "      <th>open_ma</th>\n",
       "    </tr>\n",
       "    <tr>\n",
       "      <th>Date</th>\n",
       "      <th></th>\n",
       "      <th></th>\n",
       "      <th></th>\n",
       "      <th></th>\n",
       "      <th></th>\n",
       "      <th></th>\n",
       "      <th></th>\n",
       "      <th></th>\n",
       "    </tr>\n",
       "  </thead>\n",
       "  <tbody>\n",
       "    <tr>\n",
       "      <th>2010-09-01</th>\n",
       "      <td>DIVISLAB</td>\n",
       "      <td>745.00</td>\n",
       "      <td>752.00</td>\n",
       "      <td>743.30</td>\n",
       "      <td>744.65</td>\n",
       "      <td>745.00</td>\n",
       "      <td>743.95</td>\n",
       "      <td>745.00</td>\n",
       "    </tr>\n",
       "    <tr>\n",
       "      <th>2010-09-02</th>\n",
       "      <td>DIVISLAB</td>\n",
       "      <td>750.00</td>\n",
       "      <td>754.50</td>\n",
       "      <td>742.10</td>\n",
       "      <td>746.00</td>\n",
       "      <td>745.05</td>\n",
       "      <td>745.00</td>\n",
       "      <td>747.50</td>\n",
       "    </tr>\n",
       "    <tr>\n",
       "      <th>2010-09-03</th>\n",
       "      <td>DIVISLAB</td>\n",
       "      <td>751.00</td>\n",
       "      <td>762.70</td>\n",
       "      <td>742.00</td>\n",
       "      <td>758.10</td>\n",
       "      <td>756.70</td>\n",
       "      <td>745.05</td>\n",
       "      <td>748.67</td>\n",
       "    </tr>\n",
       "    <tr>\n",
       "      <th>2010-09-06</th>\n",
       "      <td>DIVISLAB</td>\n",
       "      <td>763.75</td>\n",
       "      <td>765.85</td>\n",
       "      <td>758.00</td>\n",
       "      <td>762.55</td>\n",
       "      <td>761.65</td>\n",
       "      <td>756.70</td>\n",
       "      <td>752.44</td>\n",
       "    </tr>\n",
       "    <tr>\n",
       "      <th>2010-09-07</th>\n",
       "      <td>DIVISLAB</td>\n",
       "      <td>765.00</td>\n",
       "      <td>769.90</td>\n",
       "      <td>757.35</td>\n",
       "      <td>758.00</td>\n",
       "      <td>762.20</td>\n",
       "      <td>761.65</td>\n",
       "      <td>754.95</td>\n",
       "    </tr>\n",
       "    <tr>\n",
       "      <th>2010-09-08</th>\n",
       "      <td>DIVISLAB</td>\n",
       "      <td>755.20</td>\n",
       "      <td>760.00</td>\n",
       "      <td>744.20</td>\n",
       "      <td>755.00</td>\n",
       "      <td>755.35</td>\n",
       "      <td>762.20</td>\n",
       "      <td>754.99</td>\n",
       "    </tr>\n",
       "    <tr>\n",
       "      <th>2010-09-09</th>\n",
       "      <td>DIVISLAB</td>\n",
       "      <td>760.10</td>\n",
       "      <td>763.90</td>\n",
       "      <td>755.05</td>\n",
       "      <td>757.15</td>\n",
       "      <td>757.05</td>\n",
       "      <td>755.35</td>\n",
       "      <td>755.72</td>\n",
       "    </tr>\n",
       "    <tr>\n",
       "      <th>2010-09-13</th>\n",
       "      <td>DIVISLAB</td>\n",
       "      <td>760.25</td>\n",
       "      <td>773.50</td>\n",
       "      <td>760.00</td>\n",
       "      <td>766.00</td>\n",
       "      <td>767.80</td>\n",
       "      <td>757.05</td>\n",
       "      <td>757.90</td>\n",
       "    </tr>\n",
       "    <tr>\n",
       "      <th>2010-09-14</th>\n",
       "      <td>DIVISLAB</td>\n",
       "      <td>770.00</td>\n",
       "      <td>776.00</td>\n",
       "      <td>746.00</td>\n",
       "      <td>751.50</td>\n",
       "      <td>750.00</td>\n",
       "      <td>767.80</td>\n",
       "      <td>760.76</td>\n",
       "    </tr>\n",
       "    <tr>\n",
       "      <th>2010-09-15</th>\n",
       "      <td>DIVISLAB</td>\n",
       "      <td>755.00</td>\n",
       "      <td>757.90</td>\n",
       "      <td>746.00</td>\n",
       "      <td>747.00</td>\n",
       "      <td>748.95</td>\n",
       "      <td>750.00</td>\n",
       "      <td>761.33</td>\n",
       "    </tr>\n",
       "    <tr>\n",
       "      <th>2010-09-16</th>\n",
       "      <td>DIVISLAB</td>\n",
       "      <td>731.55</td>\n",
       "      <td>748.00</td>\n",
       "      <td>719.95</td>\n",
       "      <td>721.25</td>\n",
       "      <td>722.05</td>\n",
       "      <td>748.95</td>\n",
       "      <td>756.73</td>\n",
       "    </tr>\n",
       "    <tr>\n",
       "      <th>2010-09-17</th>\n",
       "      <td>DIVISLAB</td>\n",
       "      <td>731.00</td>\n",
       "      <td>731.00</td>\n",
       "      <td>710.10</td>\n",
       "      <td>722.60</td>\n",
       "      <td>720.95</td>\n",
       "      <td>722.05</td>\n",
       "      <td>751.87</td>\n",
       "    </tr>\n",
       "    <tr>\n",
       "      <th>2010-09-20</th>\n",
       "      <td>DIVISLAB</td>\n",
       "      <td>727.00</td>\n",
       "      <td>727.90</td>\n",
       "      <td>716.00</td>\n",
       "      <td>716.25</td>\n",
       "      <td>717.95</td>\n",
       "      <td>720.95</td>\n",
       "      <td>747.84</td>\n",
       "    </tr>\n",
       "    <tr>\n",
       "      <th>2010-09-21</th>\n",
       "      <td>DIVISLAB</td>\n",
       "      <td>725.00</td>\n",
       "      <td>736.00</td>\n",
       "      <td>706.00</td>\n",
       "      <td>709.20</td>\n",
       "      <td>708.10</td>\n",
       "      <td>717.95</td>\n",
       "      <td>742.83</td>\n",
       "    </tr>\n",
       "    <tr>\n",
       "      <th>2010-09-22</th>\n",
       "      <td>DIVISLAB</td>\n",
       "      <td>715.95</td>\n",
       "      <td>716.00</td>\n",
       "      <td>703.40</td>\n",
       "      <td>707.60</td>\n",
       "      <td>707.90</td>\n",
       "      <td>708.10</td>\n",
       "      <td>736.50</td>\n",
       "    </tr>\n",
       "  </tbody>\n",
       "</table>\n",
       "</div>"
      ],
      "text/plain": [
       "              Symbol    Open    High     Low    Last   Close  Prev Close  \\\n",
       "Date                                                                       \n",
       "2010-09-01  DIVISLAB  745.00  752.00  743.30  744.65  745.00      743.95   \n",
       "2010-09-02  DIVISLAB  750.00  754.50  742.10  746.00  745.05      745.00   \n",
       "2010-09-03  DIVISLAB  751.00  762.70  742.00  758.10  756.70      745.05   \n",
       "2010-09-06  DIVISLAB  763.75  765.85  758.00  762.55  761.65      756.70   \n",
       "2010-09-07  DIVISLAB  765.00  769.90  757.35  758.00  762.20      761.65   \n",
       "2010-09-08  DIVISLAB  755.20  760.00  744.20  755.00  755.35      762.20   \n",
       "2010-09-09  DIVISLAB  760.10  763.90  755.05  757.15  757.05      755.35   \n",
       "2010-09-13  DIVISLAB  760.25  773.50  760.00  766.00  767.80      757.05   \n",
       "2010-09-14  DIVISLAB  770.00  776.00  746.00  751.50  750.00      767.80   \n",
       "2010-09-15  DIVISLAB  755.00  757.90  746.00  747.00  748.95      750.00   \n",
       "2010-09-16  DIVISLAB  731.55  748.00  719.95  721.25  722.05      748.95   \n",
       "2010-09-17  DIVISLAB  731.00  731.00  710.10  722.60  720.95      722.05   \n",
       "2010-09-20  DIVISLAB  727.00  727.90  716.00  716.25  717.95      720.95   \n",
       "2010-09-21  DIVISLAB  725.00  736.00  706.00  709.20  708.10      717.95   \n",
       "2010-09-22  DIVISLAB  715.95  716.00  703.40  707.60  707.90      708.10   \n",
       "\n",
       "            open_ma  \n",
       "Date                 \n",
       "2010-09-01   745.00  \n",
       "2010-09-02   747.50  \n",
       "2010-09-03   748.67  \n",
       "2010-09-06   752.44  \n",
       "2010-09-07   754.95  \n",
       "2010-09-08   754.99  \n",
       "2010-09-09   755.72  \n",
       "2010-09-13   757.90  \n",
       "2010-09-14   760.76  \n",
       "2010-09-15   761.33  \n",
       "2010-09-16   756.73  \n",
       "2010-09-17   751.87  \n",
       "2010-09-20   747.84  \n",
       "2010-09-21   742.83  \n",
       "2010-09-22   736.50  "
      ]
     },
     "execution_count": 8,
     "metadata": {},
     "output_type": "execute_result"
    }
   ],
   "source": [
    "ts_data[:15]"
   ]
  },
  {
   "cell_type": "code",
   "execution_count": 9,
   "id": "c8532967",
   "metadata": {},
   "outputs": [
    {
     "data": {
      "text/plain": [
       "<AxesSubplot:xlabel='Date'>"
      ]
     },
     "execution_count": 9,
     "metadata": {},
     "output_type": "execute_result"
    },
    {
     "data": {
      "image/png": "[encoded data removed]",
      "text/plain": [
       "<Figure size 1080x720 with 1 Axes>"
      ]
     },
     "metadata": {
      "needs_background": "light"
     },
     "output_type": "display_data"
    }
   ],
   "source": [
    "plt.figure(figsize=(15,10))\n",
    "ts_data.Open.plot(style='.')\n",
    "#ts_data['open_ma'].plot()\n",
    "#ts_data.High.plot()\n",
    "#ts_data.Low.plot()\n",
    "#ts_data.Close.plot()"
   ]
  },
  {
   "cell_type": "code",
   "execution_count": 10,
   "id": "284201f7",
   "metadata": {},
   "outputs": [
    {
     "name": "stdout",
     "output_type": "stream",
     "text": [
      "<class 'pandas.core.frame.DataFrame'>\n",
      "DatetimeIndex: 2996 entries, 2010-09-01 to 2022-09-26\n",
      "Data columns (total 8 columns):\n",
      " #   Column      Non-Null Count  Dtype  \n",
      "---  ------      --------------  -----  \n",
      " 0   Symbol      2996 non-null   object \n",
      " 1   Open        2996 non-null   float64\n",
      " 2   High        2996 non-null   float64\n",
      " 3   Low         2996 non-null   float64\n",
      " 4   Last        2996 non-null   float64\n",
      " 5   Close       2996 non-null   float64\n",
      " 6   Prev Close  2996 non-null   float64\n",
      " 7   open_ma     2996 non-null   float64\n",
      "dtypes: float64(7), object(1)\n",
      "memory usage: 210.7+ KB\n"
     ]
    }
   ],
   "source": [
    "ts_data.info()"
   ]
  },
  {
   "cell_type": "code",
   "execution_count": 155,
   "id": "add1e149",
   "metadata": {},
   "outputs": [],
   "source": [
    "train=ts_data[(ts_data.index<'08-01-2021')&(ts_data.index>'01-01-2021')][['Close']]\n",
    "test=ts_data[(ts_data.index>='08-01-2021')&(ts_data.index<'08-07-2021')][['Close']]"
   ]
  },
  {
   "cell_type": "code",
   "execution_count": 156,
   "id": "78a5487e",
   "metadata": {},
   "outputs": [
    {
     "data": {
      "text/html": [
       "<div>\n",
       "<style scoped>\n",
       "    .dataframe tbody tr th:only-of-type {\n",
       "        vertical-align: middle;\n",
       "    }\n",
       "\n",
       "    .dataframe tbody tr th {\n",
       "        vertical-align: top;\n",
       "    }\n",
       "\n",
       "    .dataframe thead th {\n",
       "        text-align: right;\n",
       "    }\n",
       "</style>\n",
       "<table border=\"1\" class=\"dataframe\">\n",
       "  <thead>\n",
       "    <tr style=\"text-align: right;\">\n",
       "      <th></th>\n",
       "      <th>Close</th>\n",
       "    </tr>\n",
       "    <tr>\n",
       "      <th>Date</th>\n",
       "      <th></th>\n",
       "    </tr>\n",
       "  </thead>\n",
       "  <tbody>\n",
       "    <tr>\n",
       "      <th>2021-01-04</th>\n",
       "      <td>3862.25</td>\n",
       "    </tr>\n",
       "    <tr>\n",
       "      <th>2021-01-05</th>\n",
       "      <td>3842.10</td>\n",
       "    </tr>\n",
       "    <tr>\n",
       "      <th>2021-01-06</th>\n",
       "      <td>3879.85</td>\n",
       "    </tr>\n",
       "    <tr>\n",
       "      <th>2021-01-07</th>\n",
       "      <td>3803.05</td>\n",
       "    </tr>\n",
       "    <tr>\n",
       "      <th>2021-01-08</th>\n",
       "      <td>3859.15</td>\n",
       "    </tr>\n",
       "    <tr>\n",
       "      <th>...</th>\n",
       "      <td>...</td>\n",
       "    </tr>\n",
       "    <tr>\n",
       "      <th>2021-07-26</th>\n",
       "      <td>4921.15</td>\n",
       "    </tr>\n",
       "    <tr>\n",
       "      <th>2021-07-27</th>\n",
       "      <td>4791.40</td>\n",
       "    </tr>\n",
       "    <tr>\n",
       "      <th>2021-07-28</th>\n",
       "      <td>4890.60</td>\n",
       "    </tr>\n",
       "    <tr>\n",
       "      <th>2021-07-29</th>\n",
       "      <td>4843.80</td>\n",
       "    </tr>\n",
       "    <tr>\n",
       "      <th>2021-07-30</th>\n",
       "      <td>4906.10</td>\n",
       "    </tr>\n",
       "  </tbody>\n",
       "</table>\n",
       "<p>142 rows × 1 columns</p>\n",
       "</div>"
      ],
      "text/plain": [
       "              Close\n",
       "Date               \n",
       "2021-01-04  3862.25\n",
       "2021-01-05  3842.10\n",
       "2021-01-06  3879.85\n",
       "2021-01-07  3803.05\n",
       "2021-01-08  3859.15\n",
       "...             ...\n",
       "2021-07-26  4921.15\n",
       "2021-07-27  4791.40\n",
       "2021-07-28  4890.60\n",
       "2021-07-29  4843.80\n",
       "2021-07-30  4906.10\n",
       "\n",
       "[142 rows x 1 columns]"
      ]
     },
     "execution_count": 156,
     "metadata": {},
     "output_type": "execute_result"
    }
   ],
   "source": [
    "train"
   ]
  },
  {
   "cell_type": "code",
   "execution_count": 157,
   "id": "be67f196",
   "metadata": {},
   "outputs": [
    {
     "data": {
      "text/html": [
       "<div>\n",
       "<style scoped>\n",
       "    .dataframe tbody tr th:only-of-type {\n",
       "        vertical-align: middle;\n",
       "    }\n",
       "\n",
       "    .dataframe tbody tr th {\n",
       "        vertical-align: top;\n",
       "    }\n",
       "\n",
       "    .dataframe thead th {\n",
       "        text-align: right;\n",
       "    }\n",
       "</style>\n",
       "<table border=\"1\" class=\"dataframe\">\n",
       "  <thead>\n",
       "    <tr style=\"text-align: right;\">\n",
       "      <th></th>\n",
       "      <th>Close</th>\n",
       "    </tr>\n",
       "    <tr>\n",
       "      <th>Date</th>\n",
       "      <th></th>\n",
       "    </tr>\n",
       "  </thead>\n",
       "  <tbody>\n",
       "    <tr>\n",
       "      <th>2021-08-02</th>\n",
       "      <td>4928.95</td>\n",
       "    </tr>\n",
       "    <tr>\n",
       "      <th>2021-08-03</th>\n",
       "      <td>5006.85</td>\n",
       "    </tr>\n",
       "    <tr>\n",
       "      <th>2021-08-04</th>\n",
       "      <td>4964.25</td>\n",
       "    </tr>\n",
       "    <tr>\n",
       "      <th>2021-08-05</th>\n",
       "      <td>4923.55</td>\n",
       "    </tr>\n",
       "    <tr>\n",
       "      <th>2021-08-06</th>\n",
       "      <td>4916.00</td>\n",
       "    </tr>\n",
       "  </tbody>\n",
       "</table>\n",
       "</div>"
      ],
      "text/plain": [
       "              Close\n",
       "Date               \n",
       "2021-08-02  4928.95\n",
       "2021-08-03  5006.85\n",
       "2021-08-04  4964.25\n",
       "2021-08-05  4923.55\n",
       "2021-08-06  4916.00"
      ]
     },
     "execution_count": 157,
     "metadata": {},
     "output_type": "execute_result"
    }
   ],
   "source": [
    "test"
   ]
  },
  {
   "cell_type": "code",
   "execution_count": 158,
   "id": "3f150db3",
   "metadata": {},
   "outputs": [
    {
     "data": {
      "image/png": "[encoded data removed]",
      "text/plain": [
       "<Figure size 1080x360 with 1 Axes>"
      ]
     },
     "metadata": {
      "needs_background": "light"
     },
     "output_type": "display_data"
    }
   ],
   "source": [
    "fig,ax=plt.subplots(figsize=(15,5))\n",
    "train.plot(ax=ax,label='Traing data',title='Train & Test Split')\n",
    "test.plot(ax=ax,label='Test data')\n",
    "#ax.axvline('09-01-2020',color='black',ls='--')\n",
    "ax.legend()\n",
    "plt.show()"
   ]
  },
  {
   "cell_type": "code",
   "execution_count": 159,
   "id": "468e898f",
   "metadata": {},
   "outputs": [],
   "source": [
    "def date_time_features(ts_data):\n",
    "    '''\n",
    "    Create Features from data frame using the df index \n",
    "    '''\n",
    "    ts_data=ts_data.copy()\n",
    "    ts_data['day_of_week']=ts_data.index.day_of_week\n",
    "    ts_data['week_of_the_year']=ts_data.index.weekofyear\n",
    "    ts_data['quater']=ts_data.index.quarter\n",
    "    ts_data['day_of_year']=ts_data.index.day_of_year\n",
    "    ts_data['day_of_month']=ts_data.index.day\n",
    "    ts_data['month']=ts_data.index.month\n",
    "    return ts_data"
   ]
  },
  {
   "cell_type": "code",
   "execution_count": 160,
   "id": "5dfc5c2c",
   "metadata": {},
   "outputs": [],
   "source": [
    "train = date_time_features(train)\n",
    "test =  date_time_features(test)\n",
    " "
   ]
  },
  {
   "cell_type": "code",
   "execution_count": 161,
   "id": "5d632b3f",
   "metadata": {},
   "outputs": [],
   "source": [
    "import xgboost as xgb"
   ]
  },
  {
   "cell_type": "code",
   "execution_count": 171,
   "id": "62a0421f",
   "metadata": {},
   "outputs": [],
   "source": [
    "from sklearn.metrics import r2_score, mean_squared_error"
   ]
  },
  {
   "cell_type": "code",
   "execution_count": 163,
   "id": "fa7bcf5d",
   "metadata": {},
   "outputs": [],
   "source": [
    "xtrain=train.drop('Close',axis=1)\n",
    "ytrain=train.Close\n",
    "\n",
    "xtest=test.drop('Close',axis=1)\n",
    "ytest=test.Close"
   ]
  },
  {
   "cell_type": "code",
   "execution_count": 164,
   "id": "6db9e619",
   "metadata": {},
   "outputs": [
    {
     "name": "stdout",
     "output_type": "stream",
     "text": [
      "[0]\tvalidation_0-rmse:2801.19739\tvalidation_1-rmse:3663.92699\n",
      "[10]\tvalidation_0-rmse:102.81646\tvalidation_1-rmse:283.15937\n",
      "[20]\tvalidation_0-rmse:18.26280\tvalidation_1-rmse:107.66183\n",
      "[30]\tvalidation_0-rmse:10.10013\tvalidation_1-rmse:102.25742\n",
      "[40]\tvalidation_0-rmse:5.27485\tvalidation_1-rmse:101.06669\n",
      "[50]\tvalidation_0-rmse:3.19044\tvalidation_1-rmse:101.03329\n",
      "[60]\tvalidation_0-rmse:2.00525\tvalidation_1-rmse:101.49248\n",
      "[70]\tvalidation_0-rmse:1.51340\tvalidation_1-rmse:101.78758\n",
      "[80]\tvalidation_0-rmse:1.02357\tvalidation_1-rmse:102.07704\n",
      "[90]\tvalidation_0-rmse:0.70476\tvalidation_1-rmse:102.25505\n",
      "[99]\tvalidation_0-rmse:0.43354\tvalidation_1-rmse:102.15286\n"
     ]
    },
    {
     "data": {
      "text/html": [
       "<style>#sk-container-id-16 {color: black;background-color: white;}#sk-container-id-16 pre{padding: 0;}#sk-container-id-16 div.sk-toggleable {background-color: white;}#sk-container-id-16 label.sk-toggleable__label {cursor: pointer;display: block;width: 100%;margin-bottom: 0;padding: 0.3em;box-sizing: border-box;text-align: center;}#sk-container-id-16 label.sk-toggleable__label-arrow:before {content: \"▸\";float: left;margin-right: 0.25em;color: #696969;}#sk-container-id-16 label.sk-toggleable__label-arrow:hover:before {color: black;}#sk-container-id-16 div.sk-estimator:hover label.sk-toggleable__label-arrow:before {color: black;}#sk-container-id-16 div.sk-toggleable__content {max-height: 0;max-width: 0;overflow: hidden;text-align: left;background-color: #f0f8ff;}#sk-container-id-16 div.sk-toggleable__content pre {margin: 0.2em;color: black;border-radius: 0.25em;background-color: #f0f8ff;}#sk-container-id-16 input.sk-toggleable__control:checked~div.sk-toggleable__content {max-height: 200px;max-width: 100%;overflow: auto;}#sk-container-id-16 input.sk-toggleable__control:checked~label.sk-toggleable__label-arrow:before {content: \"▾\";}#sk-container-id-16 div.sk-estimator input.sk-toggleable__control:checked~label.sk-toggleable__label {background-color: #d4ebff;}#sk-container-id-16 div.sk-label input.sk-toggleable__control:checked~label.sk-toggleable__label {background-color: #d4ebff;}#sk-container-id-16 input.sk-hidden--visually {border: 0;clip: rect(1px 1px 1px 1px);clip: rect(1px, 1px, 1px, 1px);height: 1px;margin: -1px;overflow: hidden;padding: 0;position: absolute;width: 1px;}#sk-container-id-16 div.sk-estimator {font-family: monospace;background-color: #f0f8ff;border: 1px dotted black;border-radius: 0.25em;box-sizing: border-box;margin-bottom: 0.5em;}#sk-container-id-16 div.sk-estimator:hover {background-color: #d4ebff;}#sk-container-id-16 div.sk-parallel-item::after {content: \"\";width: 100%;border-bottom: 1px solid gray;flex-grow: 1;}#sk-container-id-16 div.sk-label:hover label.sk-toggleable__label {background-color: #d4ebff;}#sk-container-id-16 div.sk-serial::before {content: \"\";position: absolute;border-left: 1px solid gray;box-sizing: border-box;top: 0;bottom: 0;left: 50%;z-index: 0;}#sk-container-id-16 div.sk-serial {display: flex;flex-direction: column;align-items: center;background-color: white;padding-right: 0.2em;padding-left: 0.2em;position: relative;}#sk-container-id-16 div.sk-item {position: relative;z-index: 1;}#sk-container-id-16 div.sk-parallel {display: flex;align-items: stretch;justify-content: center;background-color: white;position: relative;}#sk-container-id-16 div.sk-item::before, #sk-container-id-16 div.sk-parallel-item::before {content: \"\";position: absolute;border-left: 1px solid gray;box-sizing: border-box;top: 0;bottom: 0;left: 50%;z-index: -1;}#sk-container-id-16 div.sk-parallel-item {display: flex;flex-direction: column;z-index: 1;position: relative;background-color: white;}#sk-container-id-16 div.sk-parallel-item:first-child::after {align-self: flex-end;width: 50%;}#sk-container-id-16 div.sk-parallel-item:last-child::after {align-self: flex-start;width: 50%;}#sk-container-id-16 div.sk-parallel-item:only-child::after {width: 0;}#sk-container-id-16 div.sk-dashed-wrapped {border: 1px dashed gray;margin: 0 0.4em 0.5em 0.4em;box-sizing: border-box;padding-bottom: 0.4em;background-color: white;}#sk-container-id-16 div.sk-label label {font-family: monospace;font-weight: bold;display: inline-block;line-height: 1.2em;}#sk-container-id-16 div.sk-label-container {text-align: center;}#sk-container-id-16 div.sk-container {/* jupyter's `normalize.less` sets `[hidden] { display: none; }` but bootstrap.min.css set `[hidden] { display: none !important; }` so we also need the `!important` here to be able to override the default hidden behavior on the sphinx rendered scikit-learn.org. See: https://github.com/scikit-learn/scikit-learn/issues/21755 */display: inline-block !important;position: relative;}#sk-container-id-16 div.sk-text-repr-fallback {display: none;}</style><div id=\"sk-container-id-16\" class=\"sk-top-container\"><div class=\"sk-text-repr-fallback\"><pre>XGBRegressor(base_score=0.5, booster=&#x27;gbtree&#x27;, callbacks=None,\n",
       "             colsample_bylevel=1, colsample_bynode=1, colsample_bytree=1,\n",
       "             early_stopping_rounds=50, enable_categorical=False,\n",
       "             eval_metric=None, gamma=0, gpu_id=-1, grow_policy=&#x27;depthwise&#x27;,\n",
       "             importance_type=None, interaction_constraints=&#x27;&#x27;,\n",
       "             learning_rate=0.300000012, max_bin=256, max_cat_to_onehot=4,\n",
       "             max_delta_step=0, max_depth=6, max_leaves=0, min_child_weight=1,\n",
       "             missing=nan, monotone_constraints=&#x27;()&#x27;, n_estimators=1000,\n",
       "             n_jobs=0, num_parallel_tree=1, predictor=&#x27;auto&#x27;, random_state=0,\n",
       "             reg_alpha=0, reg_lambda=1, ...)</pre><b>In a Jupyter environment, please rerun this cell to show the HTML representation or trust the notebook. <br />On GitHub, the HTML representation is unable to render, please try loading this page with nbviewer.org.</b></div><div class=\"sk-container\" hidden><div class=\"sk-item\"><div class=\"sk-estimator sk-toggleable\"><input class=\"sk-toggleable__control sk-hidden--visually\" id=\"sk-estimator-id-16\" type=\"checkbox\" checked><label for=\"sk-estimator-id-16\" class=\"sk-toggleable__label sk-toggleable__label-arrow\">XGBRegressor</label><div class=\"sk-toggleable__content\"><pre>XGBRegressor(base_score=0.5, booster=&#x27;gbtree&#x27;, callbacks=None,\n",
       "             colsample_bylevel=1, colsample_bynode=1, colsample_bytree=1,\n",
       "             early_stopping_rounds=50, enable_categorical=False,\n",
       "             eval_metric=None, gamma=0, gpu_id=-1, grow_policy=&#x27;depthwise&#x27;,\n",
       "             importance_type=None, interaction_constraints=&#x27;&#x27;,\n",
       "             learning_rate=0.300000012, max_bin=256, max_cat_to_onehot=4,\n",
       "             max_delta_step=0, max_depth=6, max_leaves=0, min_child_weight=1,\n",
       "             missing=nan, monotone_constraints=&#x27;()&#x27;, n_estimators=1000,\n",
       "             n_jobs=0, num_parallel_tree=1, predictor=&#x27;auto&#x27;, random_state=0,\n",
       "             reg_alpha=0, reg_lambda=1, ...)</pre></div></div></div></div></div>"
      ],
      "text/plain": [
       "XGBRegressor(base_score=0.5, booster='gbtree', callbacks=None,\n",
       "             colsample_bylevel=1, colsample_bynode=1, colsample_bytree=1,\n",
       "             early_stopping_rounds=50, enable_categorical=False,\n",
       "             eval_metric=None, gamma=0, gpu_id=-1, grow_policy='depthwise',\n",
       "             importance_type=None, interaction_constraints='',\n",
       "             learning_rate=0.300000012, max_bin=256, max_cat_to_onehot=4,\n",
       "             max_delta_step=0, max_depth=6, max_leaves=0, min_child_weight=1,\n",
       "             missing=nan, monotone_constraints='()', n_estimators=1000,\n",
       "             n_jobs=0, num_parallel_tree=1, predictor='auto', random_state=0,\n",
       "             reg_alpha=0, reg_lambda=1, ...)"
      ]
     },
     "execution_count": 164,
     "metadata": {},
     "output_type": "execute_result"
    }
   ],
   "source": [
    "reg_model=xgb.XGBRegressor(n_estimators=1000,\n",
    "                        early_stopping_rounds=50)\n",
    "reg_model.fit(xtrain,ytrain,\n",
    "             eval_set=[(xtrain,ytrain),(xtest,ytest)],verbose=10)"
   ]
  },
  {
   "cell_type": "code",
   "execution_count": 165,
   "id": "22c9fb22",
   "metadata": {},
   "outputs": [],
   "source": [
    "ypred=reg_model.predict(xtest)"
   ]
  },
  {
   "cell_type": "code",
   "execution_count": 166,
   "id": "75343245",
   "metadata": {},
   "outputs": [
    {
     "data": {
      "text/plain": [
       "-7.873634670466865"
      ]
     },
     "execution_count": 166,
     "metadata": {},
     "output_type": "execute_result"
    }
   ],
   "source": [
    "r2_score(ytest,ypred)"
   ]
  },
  {
   "cell_type": "code",
   "execution_count": 172,
   "id": "e3457d91",
   "metadata": {},
   "outputs": [
    {
     "data": {
      "text/plain": [
       "10137.343181703598"
      ]
     },
     "execution_count": 172,
     "metadata": {},
     "output_type": "execute_result"
    }
   ],
   "source": [
    "mean_squared_error(ytest,ypred)"
   ]
  },
  {
   "cell_type": "code",
   "execution_count": 173,
   "id": "16400ec6",
   "metadata": {},
   "outputs": [],
   "source": [
    "predicted_data=pd.DataFrame(ypred,index=ytest.index) "
   ]
  },
  {
   "cell_type": "code",
   "execution_count": 174,
   "id": "97193aaa",
   "metadata": {},
   "outputs": [
    {
     "data": {
      "image/png": "[encoded data removed]",
      "text/plain": [
       "<Figure size 1080x360 with 1 Axes>"
      ]
     },
     "metadata": {
      "needs_background": "light"
     },
     "output_type": "display_data"
    }
   ],
   "source": [
    "fig,ax=plt.subplots(figsize=(15,5))\n",
    "ytrain.plot(ax=ax,label='Traing data',title='Predicted Data')\n",
    "ytest.plot(ax=ax,label='Actual data')\n",
    "predicted_data.plot(ax=ax,label='predicted data')\n",
    "#ax.axvline('09-01-2020',color='black',ls='--')\n",
    "ax.legend()\n",
    "plt.show()"
   ]
  },
  {
   "cell_type": "code",
   "execution_count": 169,
   "id": "fd44dfd3",
   "metadata": {},
   "outputs": [
    {
     "data": {
      "text/plain": [
       "array([3.2193912e-03, 2.9113024e-01, 5.9383656e-06, 6.5194738e-01,\n",
       "       5.3697076e-02, 0.0000000e+00], dtype=float32)"
      ]
     },
     "execution_count": 169,
     "metadata": {},
     "output_type": "execute_result"
    }
   ],
   "source": [
    "reg_model.feature_importances_"
   ]
  },
  {
   "cell_type": "code",
   "execution_count": 170,
   "id": "9bb3cc3d",
   "metadata": {},
   "outputs": [
    {
     "data": {
      "text/plain": [
       "array(['day_of_week', 'week_of_the_year', 'quater', 'day_of_year',\n",
       "       'day_of_month', 'month'], dtype='<U16')"
      ]
     },
     "execution_count": 170,
     "metadata": {},
     "output_type": "execute_result"
    }
   ],
   "source": [
    "reg_model.feature_names_in_"
   ]
  },
  {
   "cell_type": "code",
   "execution_count": null,
   "id": "5e012eb6",
   "metadata": {},
   "outputs": [],
   "source": []
  }
 ],
 "metadata": {
  "kernelspec": {
   "display_name": "Python 3 (ipykernel)",
   "language": "python",
   "name": "python3"
  },
  "language_info": {
   "codemirror_mode": {
    "name": "ipython",
    "version": 3
   },
   "file_extension": ".py",
   "mimetype": "text/x-python",
   "name": "python",
   "nbconvert_exporter": "python",
   "pygments_lexer": "ipython3",
   "version": "3.9.7"
  }
 },
 "nbformat": 4,
 "nbformat_minor": 5
}
