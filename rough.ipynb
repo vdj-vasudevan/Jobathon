{
 "cells": [
  {
   "cell_type": "code",
   "execution_count": 1,
   "id": "ded2380a",
   "metadata": {},
   "outputs": [
    {
     "data": {
      "text/plain": [
       "'c'"
      ]
     },
     "execution_count": 1,
     "metadata": {},
     "output_type": "execute_result"
    }
   ],
   "source": [
    "stats = {'a': -3000.6, 'b': -3000.3, 'c': -3000, 'd':-3000.9}\n",
    "max(stats, key=stats.get)"
   ]
  },
  {
   "cell_type": "code",
   "execution_count": 2,
   "id": "2be306cd",
   "metadata": {},
   "outputs": [
    {
     "name": "stdout",
     "output_type": "stream",
     "text": [
      "5-"
     ]
    }
   ],
   "source": [
    "print(5,end='-')"
   ]
  },
  {
   "cell_type": "code",
   "execution_count": 3,
   "id": "f2994ec2",
   "metadata": {},
   "outputs": [
    {
     "name": "stdout",
     "output_type": "stream",
     "text": [
      "{9}\n"
     ]
    }
   ],
   "source": [
    "A = {1, 2, 3, 5, 9}\n",
    "B = {1, 9, 11, 23, 10}\n",
    "C = {7, 9, 23, 13, 2}\n",
    "print(A.intersection(B,C))"
   ]
  }
 ],
 "metadata": {
  "kernelspec": {
   "display_name": "Python 3 (ipykernel)",
   "language": "python",
   "name": "python3"
  },
  "language_info": {
   "codemirror_mode": {
    "name": "ipython",
    "version": 3
   },
   "file_extension": ".py",
   "mimetype": "text/x-python",
   "name": "python",
   "nbconvert_exporter": "python",
   "pygments_lexer": "ipython3",
   "version": "3.9.7"
  }
 },
 "nbformat": 4,
 "nbformat_minor": 5
}
